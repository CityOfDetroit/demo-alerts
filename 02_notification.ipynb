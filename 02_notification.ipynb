{
 "cells": [
  {
   "cell_type": "code",
   "execution_count": 21,
   "metadata": {
    "collapsed": false
   },
   "outputs": [],
   "source": [
    "from sodapy import Socrata\n",
    "from smartsheet import Smartsheet\n",
    "import os\n",
    "soda_client = Socrata(\"data.detroitmi.gov\", os.environ['SODA_TOKEN'], os.environ['SODA_USER'], os.environ['SODA_PASS'])\n",
    "\n",
    "smartsheet = Smartsheet(os.environ['SMARTSHEET_API_TOKEN'])\n",
    "SUBSCRIBER_SHEET_ID=6624424314070916\n",
    "sheet = smartsheet.Sheets.get_sheet(SUBSCRIBER_SHEET_ID, page_size=1000)\n",
    "\n",
    "def demos_near_row(row):\n",
    "    \"\"\"Fetch demolitions near a subscriber.\"\"\"\n",
    "    lat = row.cells[3].value\n",
    "    lng = row.cells[4].value\n",
    "    resp = soda_client.get(\"q48r-nkgw\", where=\"within_circle(location, {}, {}, 155)\".format(lat, lng))\n",
    "    if len(resp) > 0:\n",
    "        print(\"Demos near {}: {}\".format(row.cells[2].value, resp))\n",
    "    else:\n",
    "        print(\"No demos near {}\".format(row.cells[2].value))\n",
    "        \n",
    "def make_alert_message(row, demos):\n",
    "    \"\"\"Create the daily alert message\"\"\"\n",
    "    pass\n",
    "\n",
    "def send_message(row, message):\n",
    "    pass\n",
    "\n",
    "for r in sheet.rows:\n",
    "    demos_near_row(r)"
   ]
  }
 ],
 "metadata": {
  "kernelspec": {
   "display_name": "Python 3",
   "language": "python",
   "name": "python3"
  },
  "language_info": {
   "codemirror_mode": {
    "name": "ipython",
    "version": 3
   },
   "file_extension": ".py",
   "mimetype": "text/x-python",
   "name": "python",
   "nbconvert_exporter": "python",
   "pygments_lexer": "ipython3",
   "version": "3.6.0"
  }
 },
 "nbformat": 4,
 "nbformat_minor": 2
}
