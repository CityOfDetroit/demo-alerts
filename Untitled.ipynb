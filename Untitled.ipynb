{
 "cells": [
  {
   "cell_type": "code",
   "execution_count": 87,
   "metadata": {
    "collapsed": false
   },
   "outputs": [],
   "source": [
    "from smartsheet import Smartsheet\n",
    "import os\n",
    "import geocoder\n",
    "\n",
    "smartsheet = Smartsheet(os.environ['SMARTSHEET_API_TOKEN'])\n",
    "subscriber_sheet_id = 6624424314070916\n",
    "SS = smartsheet.Sheets.get_sheet(subscriber_sheet_id)\n",
    "COLS = { c.title: (c.index, c.id) for c in SS.columns }\n",
    "\n",
    "gc = geocoder.Geocoder()\n",
    "\n",
    "class Contact(object):\n",
    "    def __init__(self, phone):\n",
    "        self.number = phone\n",
    "        self.subscriber = False\n",
    "        self.addresses = []\n",
    "        for r in SS.rows:\n",
    "            if r.cells[COLS['Phone Number'][0]].display_value == phone:\n",
    "                self.subscriber = True\n",
    "                self.addresses.append((r.cells[COLS['Matched Address'][0]].value, r))\n",
    "\n",
    "    def watch(self, address):\n",
    "        \"\"\"Add a new row/reactivate subscription? to the smartsheet\"\"\"\n",
    "        # add new row\n",
    "        geo = gc.geocode(address)\n",
    "        location = (round(geo['location']['x'], 5), round(geo['location']['y'], 5))\n",
    "        \n",
    "        new_row = smartsheet.models.Row()\n",
    "        new_row.to_top = True\n",
    "        \n",
    "        new_row.cells.append({\n",
    "            'column_id': COLS['Active'][1],\n",
    "            'value': True\n",
    "        })\n",
    "        new_row.cells.append({\n",
    "            'column_id': COLS['Address'][1],\n",
    "            'value': address\n",
    "        })\n",
    "        new_row.cells.append({\n",
    "            'column_id': COLS['Phone Number'][1],\n",
    "            'value': self.number\n",
    "        })\n",
    "        new_row.cells.append({\n",
    "            'column_id': COLS['LatLng'][1],\n",
    "            'value': str(location)\n",
    "        })\n",
    "        new_row.cells.append({\n",
    "            'column_id': COLS['Matched Address'][1],\n",
    "            'value': str(geo['address'][:-7])\n",
    "        })\n",
    "        \n",
    "        new_row_in_sheet = smartsheet.Sheets.add_rows(SS.id, [new_row])\n",
    "        self.addresses.append((str(geo['address'][:-7]), new_row_in_sheet.result[0]))\n",
    "\n",
    "    def unwatch(self, address):\n",
    "        \"\"\"Deactivate a subscription from the Smartsheet\"\"\"\n",
    "        for r in self.addresses:\n",
    "            print(r)\n",
    "            if address == r[0]:\n",
    "                cell_active = r[1].get_column(COLS['Active'][1])\n",
    "                print(cell_active.to_dict())\n",
    "                cell_active.value = False\n",
    "                print(cell_active.to_dict())\n",
    "                r[1].set_column(COLS['Active'][1], cell_active)\n",
    "                smartsheet.Sheets.update_rows(SS.id, [r[1]])\n"
   ]
  },
  {
   "cell_type": "code",
   "execution_count": 90,
   "metadata": {
    "collapsed": false
   },
   "outputs": [
    {
     "data": {
      "text/plain": [
       "[]"
      ]
     },
     "execution_count": 90,
     "metadata": {},
     "output_type": "execute_result"
    }
   ],
   "source": [
    "b = Contact('3138065668')\n",
    "b.addresses"
   ]
  },
  {
   "cell_type": "code",
   "execution_count": 91,
   "metadata": {
    "collapsed": false
   },
   "outputs": [],
   "source": [
    "b.watch('2820 Cambridge')"
   ]
  },
  {
   "cell_type": "code",
   "execution_count": 78,
   "metadata": {
    "collapsed": false
   },
   "outputs": [
    {
     "name": "stdout",
     "output_type": "stream",
     "text": [
      "('2820 CAMBRIDGE', <smartsheet.models.result.Result object at 0x107814cf8>)\n"
     ]
    },
    {
     "ename": "AttributeError",
     "evalue": "'Result' object has no attribute 'get_column'",
     "output_type": "error",
     "traceback": [
      "\u001b[0;31m---------------------------------------------------------------------------\u001b[0m",
      "\u001b[0;31mAttributeError\u001b[0m                            Traceback (most recent call last)",
      "\u001b[0;32m<ipython-input-78-b965d795081d>\u001b[0m in \u001b[0;36m<module>\u001b[0;34m()\u001b[0m\n\u001b[0;32m----> 1\u001b[0;31m \u001b[0ma\u001b[0m \u001b[0;34m=\u001b[0m \u001b[0mj\u001b[0m\u001b[0;34m.\u001b[0m\u001b[0munwatch\u001b[0m\u001b[0;34m(\u001b[0m\u001b[0;34m'2820 CAMBRIDGE'\u001b[0m\u001b[0;34m)\u001b[0m\u001b[0;34m\u001b[0m\u001b[0m\n\u001b[0m",
      "\u001b[0;32m<ipython-input-73-a183bcd5cdbc>\u001b[0m in \u001b[0;36munwatch\u001b[0;34m(self, address)\u001b[0m\n\u001b[1;32m     58\u001b[0m             \u001b[0mprint\u001b[0m\u001b[0;34m(\u001b[0m\u001b[0mr\u001b[0m\u001b[0;34m)\u001b[0m\u001b[0;34m\u001b[0m\u001b[0m\n\u001b[1;32m     59\u001b[0m             \u001b[0;32mif\u001b[0m \u001b[0maddress\u001b[0m \u001b[0;34m==\u001b[0m \u001b[0mr\u001b[0m\u001b[0;34m[\u001b[0m\u001b[0;36m0\u001b[0m\u001b[0;34m]\u001b[0m\u001b[0;34m:\u001b[0m\u001b[0;34m\u001b[0m\u001b[0m\n\u001b[0;32m---> 60\u001b[0;31m                 \u001b[0mcell_active\u001b[0m \u001b[0;34m=\u001b[0m \u001b[0mr\u001b[0m\u001b[0;34m[\u001b[0m\u001b[0;36m1\u001b[0m\u001b[0;34m]\u001b[0m\u001b[0;34m.\u001b[0m\u001b[0mget_column\u001b[0m\u001b[0;34m(\u001b[0m\u001b[0mCOLS\u001b[0m\u001b[0;34m[\u001b[0m\u001b[0;34m'Active'\u001b[0m\u001b[0;34m]\u001b[0m\u001b[0;34m[\u001b[0m\u001b[0;36m1\u001b[0m\u001b[0;34m]\u001b[0m\u001b[0;34m)\u001b[0m\u001b[0;34m\u001b[0m\u001b[0m\n\u001b[0m\u001b[1;32m     61\u001b[0m                 \u001b[0mprint\u001b[0m\u001b[0;34m(\u001b[0m\u001b[0mcell_active\u001b[0m\u001b[0;34m.\u001b[0m\u001b[0mto_dict\u001b[0m\u001b[0;34m(\u001b[0m\u001b[0;34m)\u001b[0m\u001b[0;34m)\u001b[0m\u001b[0;34m\u001b[0m\u001b[0m\n\u001b[1;32m     62\u001b[0m                 \u001b[0mcell_active\u001b[0m\u001b[0;34m.\u001b[0m\u001b[0mvalue\u001b[0m \u001b[0;34m=\u001b[0m \u001b[0;32mFalse\u001b[0m\u001b[0;34m\u001b[0m\u001b[0m\n",
      "\u001b[0;31mAttributeError\u001b[0m: 'Result' object has no attribute 'get_column'"
     ]
    }
   ],
   "source": [
    "a = j.unwatch('2820 CAMBRIDGE')"
   ]
  },
  {
   "cell_type": "code",
   "execution_count": 93,
   "metadata": {
    "collapsed": false
   },
   "outputs": [
    {
     "name": "stdout",
     "output_type": "stream",
     "text": [
      "('2820 CAMBRIDGE', <smartsheet.models.row.Row object at 0x107822630>)\n",
      "{'columnId': 394679796688772, 'columnType': None, 'conditionalFormat': None, 'displayValue': None, 'format': None, 'formula': None, 'hyperlink': None, 'linkInFromCell': None, 'linksOutToCells': None, 'strict': True, 'value': True}\n",
      "{'columnId': 394679796688772, 'columnType': None, 'conditionalFormat': None, 'displayValue': None, 'format': None, 'formula': None, 'hyperlink': None, 'linkInFromCell': None, 'linksOutToCells': None, 'strict': True, 'value': False}\n"
     ]
    }
   ],
   "source": [
    "b.addresses\n",
    "b.unwatch('2820 CAMBRIDGE')"
   ]
  },
  {
   "cell_type": "code",
   "execution_count": 14,
   "metadata": {
    "collapsed": false
   },
   "outputs": [
    {
     "data": {
      "text/plain": [
       "<smartsheet.models.result.Result at 0x106af8080>"
      ]
     },
     "execution_count": 14,
     "metadata": {},
     "output_type": "execute_result"
    }
   ],
   "source": [
    "smartsheet.Sheets.update_rows(SS.id, [k.addresses[0][1]])"
   ]
  },
  {
   "cell_type": "code",
   "execution_count": 55,
   "metadata": {
    "collapsed": false
   },
   "outputs": [],
   "source": [
    "cell_active = row.get_column(COLS['Active'][1])"
   ]
  },
  {
   "cell_type": "code",
   "execution_count": 62,
   "metadata": {
    "collapsed": false
   },
   "outputs": [
    {
     "data": {
      "text/plain": [
       "True"
      ]
     },
     "execution_count": 62,
     "metadata": {},
     "output_type": "execute_result"
    }
   ],
   "source": [
    "cell_active.value"
   ]
  },
  {
   "cell_type": "code",
   "execution_count": null,
   "metadata": {
    "collapsed": true
   },
   "outputs": [],
   "source": [
    "cell_active.value = False\n",
    "r[1].set_column(COLS['Active'][1], cell_active)\n",
    "return smartsheet.Sheets.update_rows(SS.id, [r[1]])"
   ]
  }
 ],
 "metadata": {
  "kernelspec": {
   "display_name": "Python 3",
   "language": "python",
   "name": "python3"
  },
  "language_info": {
   "codemirror_mode": {
    "name": "ipython",
    "version": 3
   },
   "file_extension": ".py",
   "mimetype": "text/x-python",
   "name": "python",
   "nbconvert_exporter": "python",
   "pygments_lexer": "ipython3",
   "version": "3.6.0"
  }
 },
 "nbformat": 4,
 "nbformat_minor": 2
}
