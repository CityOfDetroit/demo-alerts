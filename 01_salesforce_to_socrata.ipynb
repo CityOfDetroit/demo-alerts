{
 "cells": [
  {
   "cell_type": "code",
   "execution_count": 73,
   "metadata": {
    "collapsed": false
   },
   "outputs": [],
   "source": [
    "from simple_salesforce import Salesforce\n",
    "import arcgis\n",
    "import os"
   ]
  },
  {
   "cell_type": "code",
   "execution_count": 74,
   "metadata": {
    "collapsed": true
   },
   "outputs": [],
   "source": [
    "# connection to Salesforce\n",
    "SF = Salesforce(\"iet@detroitmi.gov\", os.environ['SF_PASS'], os.environ['SF_TOKEN'])"
   ]
  },
  {
   "cell_type": "code",
   "execution_count": 75,
   "metadata": {
    "collapsed": true
   },
   "outputs": [],
   "source": [
    "# Helper functions\n",
    "gc = arcgis.geocoding.Geocoder(\"https://gis.detroitmi.gov/arcgis/rest/services/DoIT/CompositeGeocoder/GeocodeServer\")\n",
    "def geocode_record(record, column):\n",
    "    res = arcgis.geocoding.geocode(address=record[column], geocoder=gc, out_sr=4326)\n",
    "    best = res[0]['location']\n",
    "    return '({}, {})'.format(round(best['y'], 5), round(best['x'], 5))\n",
    "    \n",
    "def process_record(record, fieldmap):\n",
    "    \"\"\"Create a new record from Salesforce via a field mapping.\"\"\"\n",
    "    data = {}\n",
    "    for k, v in fieldmap.items():\n",
    "        try:\n",
    "            data[k] = record[v]\n",
    "        except: \n",
    "            print(\"no match on field: {}\".format(v))\n",
    "    # attach address data as location\n",
    "    data['location'] = geocode_record(data, 'Address')\n",
    "    return data"
   ]
  },
  {
   "cell_type": "code",
   "execution_count": 76,
   "metadata": {
    "collapsed": false
   },
   "outputs": [],
   "source": [
    "next_thirty = SF.query_all(\"\"\"\n",
    "                           Select Id, \n",
    "                            Parcel_ID__c, \n",
    "                            Address__c, \n",
    "                            DEMO_Planned_Knock_Down_Date__c\n",
    "                           from Case \n",
    "                            WHERE DEMO_Planned_Knock_Down_Date__c = NEXT_N_DAYS:30\n",
    "                            ORDER BY DEMO_Planned_Knock_Down_Date__c ASC\n",
    "                            \"\"\")\n",
    "\n",
    "mapping = {\n",
    "    'Parcel ID': 'Parcel_ID__c',\n",
    "    'Address': 'Address__c',\n",
    "    'Projected Demolition Date': 'DEMO_Planned_Knock_Down_Date__c',\n",
    "}"
   ]
  },
  {
   "cell_type": "code",
   "execution_count": 77,
   "metadata": {
    "collapsed": false
   },
   "outputs": [],
   "source": [
    "# get an array of processed SF rows\n",
    "rows = [process_record(r, mapping) for r in next_thirty['records']]"
   ]
  },
  {
   "cell_type": "code",
   "execution_count": 79,
   "metadata": {
    "collapsed": false
   },
   "outputs": [],
   "source": [
    "from sodapy import Socrata\n",
    "# connection to Socrata\n",
    "socrata_client = Socrata(\"data.detroitmi.gov\", os.environ['SODA_TOKEN'], os.environ['SODA_USER'], os.environ['SODA_PASS'])"
   ]
  },
  {
   "cell_type": "code",
   "execution_count": 80,
   "metadata": {
    "collapsed": true
   },
   "outputs": [],
   "source": [
    "# columns for Next 30 Days demolition dataset\n",
    "columns = [\n",
    "    {\"fieldName\": \"parcelnumb\", \"name\": \"Parcel ID\", \"dataTypeName\": \"text\"},\n",
    "    {\"fieldName\": \"demo_date\", \"name\": \"Projected Demolition Date\", \"dataTypeName\": \"date\"},\n",
    "    {\"fieldName\": \"address\", \"name\": \"Address\", \"dataTypeName\": \"text\"},\n",
    "    {\"fieldName\": \"location\", \"name\": \"Location\", \"dataTypeName\": \"location\"}\n",
    "]\n",
    "\n",
    "# tags for Next 30 Days demolition dataset\n",
    "tags = [\"DLBA\", \"demolitions\"]"
   ]
  },
  {
   "cell_type": "code",
   "execution_count": 81,
   "metadata": {
    "collapsed": false
   },
   "outputs": [],
   "source": [
    "# make the dataset\n",
    "dataset = socrata_client.create(\"Demolitions Next 30 Days w Location\", \n",
    "                      description=\"Demolitions happening in the next 30 days\",\n",
    "                      columns=columns,\n",
    "                      row_identifier=\"parcelnumb\",\n",
    "                      tags=tags,\n",
    "                      category=\"Government\")"
   ]
  },
  {
   "cell_type": "code",
   "execution_count": 82,
   "metadata": {
    "collapsed": false
   },
   "outputs": [
    {
     "data": {
      "text/plain": [
       "{'By RowIdentifier': 113,\n",
       " 'By SID': 0,\n",
       " 'Errors': 0,\n",
       " 'Rows Created': 113,\n",
       " 'Rows Deleted': 0,\n",
       " 'Rows Updated': 0}"
      ]
     },
     "execution_count": 82,
     "metadata": {},
     "output_type": "execute_result"
    }
   ],
   "source": [
    "# upsert rows from Salesforce\n",
    "socrata_client.upsert(dataset['id'], rows)"
   ]
  }
 ],
 "metadata": {
  "kernelspec": {
   "display_name": "Python 3",
   "language": "python",
   "name": "python3"
  },
  "language_info": {
   "codemirror_mode": {
    "name": "ipython",
    "version": 3
   },
   "file_extension": ".py",
   "mimetype": "text/x-python",
   "name": "python",
   "nbconvert_exporter": "python",
   "pygments_lexer": "ipython3",
   "version": "3.6.0"
  }
 },
 "nbformat": 4,
 "nbformat_minor": 2
}
