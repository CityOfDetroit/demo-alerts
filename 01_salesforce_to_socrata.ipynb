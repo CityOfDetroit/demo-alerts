{
 "cells": [
  {
   "cell_type": "code",
   "execution_count": 2,
   "metadata": {
    "collapsed": true
   },
   "outputs": [],
   "source": [
    "from simple_salesforce import Salesforce\n",
    "import pandas as pd\n",
    "import os"
   ]
  },
  {
   "cell_type": "code",
   "execution_count": 3,
   "metadata": {
    "collapsed": true
   },
   "outputs": [],
   "source": [
    "# connection to Salesforce\n",
    "SF = Salesforce(\"iet@detroitmi.gov\", os.environ['SF_PASS'], os.environ['SF_TOKEN'])"
   ]
  },
  {
   "cell_type": "code",
   "execution_count": 4,
   "metadata": {
    "collapsed": true
   },
   "outputs": [],
   "source": [
    "# Helper functions\n",
    "def display_query(query):\n",
    "    \"\"\"Pretty-print a Salesforce query.\"\"\"\n",
    "    print(json.dumps(SF.query(query), indent=1))\n",
    "    return SF.query_all(query)\n",
    "\n",
    "def display_obj(obj):\n",
    "    \"\"\"Pretty-print a Salesforce object (ordered dict)\"\"\"\n",
    "    print(json.dumps(obj, indent=1))\n",
    "    \n",
    "def process_record(record, fieldmap):\n",
    "    \"\"\"Create a new record from Salesforce via a field mapping.\"\"\"\n",
    "    data = {}\n",
    "    for k, v in fieldmap.items():\n",
    "        try:\n",
    "            data[k] = record[v]\n",
    "        except: \n",
    "            print(\"no match on field: {}\".format(v))\n",
    "    return data"
   ]
  },
  {
   "cell_type": "code",
   "execution_count": 11,
   "metadata": {
    "collapsed": false
   },
   "outputs": [],
   "source": [
    "next_thirty = SF.query_all(\"\"\"\n",
    "                           Select Id, \n",
    "                            Parcel_ID__c, \n",
    "                            Address__c, \n",
    "                            DEMO_Planned_Knock_Down_Date__c\n",
    "                           from Case \n",
    "                            WHERE DEMO_Planned_Knock_Down_Date__c = NEXT_N_DAYS:30\n",
    "                            ORDER BY DEMO_Planned_Knock_Down_Date__c ASC\n",
    "                            \"\"\")\n",
    "\n",
    "mapping = {\n",
    "    'Parcel ID': 'Parcel_ID__c',\n",
    "    'Address': 'Address__c',\n",
    "    'Projected Demolition Date': 'DEMO_Planned_Knock_Down_Date__c',\n",
    "}"
   ]
  },
  {
   "cell_type": "code",
   "execution_count": 12,
   "metadata": {
    "collapsed": false
   },
   "outputs": [],
   "source": [
    "# get an array of processed SF rows\n",
    "rows = [process_record(r, mapping) for r in next_thirty['records']]"
   ]
  },
  {
   "cell_type": "code",
   "execution_count": 19,
   "metadata": {
    "collapsed": false
   },
   "outputs": [
    {
     "name": "stdout",
     "output_type": "stream",
     "text": [
      "(113, 3)\n",
      "Address                      object\n",
      "Parcel ID                    object\n",
      "Projected Demolition Date    object\n",
      "dtype: object\n"
     ]
    }
   ],
   "source": [
    "demos_df = pd.DataFrame(rows)\n",
    "print(demos_df.shape)\n",
    "print(demos_df.dtypes)"
   ]
  },
  {
   "cell_type": "code",
   "execution_count": 20,
   "metadata": {
    "collapsed": false
   },
   "outputs": [],
   "source": [
    "from sodapy import Socrata\n",
    "# connection to Socrata\n",
    "socrata_client = Socrata(\"data.detroitmi.gov\", os.environ['SODA_TOKEN'], os.environ['SODA_USER'], os.environ['SODA_PASS'])"
   ]
  },
  {
   "cell_type": "code",
   "execution_count": 25,
   "metadata": {
    "collapsed": true
   },
   "outputs": [],
   "source": [
    "# columns for Next 30 Days demolition dataset\n",
    "columns = [\n",
    "    {\"fieldName\": \"parcelnumb\", \"name\": \"Parcel ID\", \"dataTypeName\": \"text\"},\n",
    "    {\"fieldName\": \"demo_date\", \"name\": \"Projected Demolition Date\", \"dataTypeName\": \"date\"},\n",
    "    {\"fieldName\": \"address\", \"name\": \"Address\", \"dataTypeName\": \"text\"},\n",
    "]\n",
    "\n",
    "# tags for Next 30 Days demolition dataset\n",
    "tags = [\"DLBA\", \"demolitions\"]"
   ]
  },
  {
   "cell_type": "code",
   "execution_count": 29,
   "metadata": {
    "collapsed": false
   },
   "outputs": [],
   "source": [
    "# make the dataset\n",
    "dataset = socrata_client.create(\"Demolitions Next 30 Days\", \n",
    "                      description=\"Demolitions happening in the next 30 days\",\n",
    "                      columns=columns,\n",
    "                      row_identifier=\"parcelnumb\",\n",
    "                      tags=tags,\n",
    "                      category=\"Government\")"
   ]
  },
  {
   "cell_type": "code",
   "execution_count": 30,
   "metadata": {
    "collapsed": false
   },
   "outputs": [
    {
     "data": {
      "text/plain": [
       "{'By RowIdentifier': 113,\n",
       " 'By SID': 0,\n",
       " 'Errors': 0,\n",
       " 'Rows Created': 113,\n",
       " 'Rows Deleted': 0,\n",
       " 'Rows Updated': 0}"
      ]
     },
     "execution_count": 30,
     "metadata": {},
     "output_type": "execute_result"
    }
   ],
   "source": [
    "# upsert rows from Salesforce\n",
    "socrata_client.upsert(dataset['id'], rows)"
   ]
  }
 ],
 "metadata": {
  "kernelspec": {
   "display_name": "Python 3",
   "language": "python",
   "name": "python3"
  },
  "language_info": {
   "codemirror_mode": {
    "name": "ipython",
    "version": 3
   },
   "file_extension": ".py",
   "mimetype": "text/x-python",
   "name": "python",
   "nbconvert_exporter": "python",
   "pygments_lexer": "ipython3",
   "version": "3.6.0"
  }
 },
 "nbformat": 4,
 "nbformat_minor": 2
}
